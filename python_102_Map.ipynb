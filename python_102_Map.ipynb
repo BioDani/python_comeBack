{
 "cells": [
  {
   "attachments": {},
   "cell_type": "markdown",
   "metadata": {},
   "source": [
    "# Map"
   ]
  },
  {
   "attachments": {},
   "cell_type": "markdown",
   "metadata": {},
   "source": [
    "La función map () ejecuta una función especifica para cada elemento en un iterable y el elemento se envía a la función como un parámetro.\n",
    "\n",
    "`map(function, iterables)`"
   ]
  },
  {
   "cell_type": "markdown",
   "metadata": {},
   "source": []
  },
  {
   "cell_type": "code",
   "execution_count": 4,
   "metadata": {},
   "outputs": [
    {
     "name": "stdout",
     "output_type": "stream",
     "text": [
      "<map object at 0x107bc0f10>\n",
      "[2, 4, 6, 8]\n"
     ]
    }
   ],
   "source": [
    "numbers = [1,2,3,4]\n",
    "\n",
    "numbers_2 = map(lambda x: x*2, numbers)\n",
    "print(numbers_2) # retorna un iterable, transformamos a lista\n",
    "print(list(numbers_2))"
   ]
  },
  {
   "attachments": {},
   "cell_type": "markdown",
   "metadata": {},
   "source": [
    "`map()` con un diccionario"
   ]
  },
  {
   "cell_type": "code",
   "execution_count": 14,
   "metadata": {},
   "outputs": [
    {
     "name": "stdout",
     "output_type": "stream",
     "text": [
      "[1000, 2000]\n"
     ]
    }
   ],
   "source": [
    "products = [\n",
    "    {'product':'camisa',\n",
    "     'price': 1000},\n",
    "    {'product':'camisa',\n",
    "     'price': 2000}     \n",
    "]\n",
    "\n",
    "prices = list(map(lambda item: item['price'], products))\n",
    "print(prices)"
   ]
  },
  {
   "attachments": {},
   "cell_type": "markdown",
   "metadata": {},
   "source": [
    "Pasar una función al map para agregar los impuestos"
   ]
  },
  {
   "cell_type": "code",
   "execution_count": 16,
   "metadata": {},
   "outputs": [
    {
     "name": "stdout",
     "output_type": "stream",
     "text": [
      "[{'product': 'camisa', 'price': 1000, 'taxa': 190.0}, {'product': 'camisa', 'price': 2000, 'taxa': 380.0}]\n"
     ]
    }
   ],
   "source": [
    "def add_taxes(item):\n",
    "    item['taxa'] = item['price']*0.19\n",
    "    return item\n",
    "\n",
    "new_products = list(map(add_taxes,products))\n",
    "print(new_products)"
   ]
  },
  {
   "attachments": {},
   "cell_type": "markdown",
   "metadata": {},
   "source": [
    "diccionarios cambian así sean asignados a una nueva variable"
   ]
  },
  {
   "cell_type": "code",
   "execution_count": 25,
   "metadata": {},
   "outputs": [
    {
     "name": "stdout",
     "output_type": "stream",
     "text": [
      "[{'id': 1, 'name': 'red'}, {'id': 2, 'name': 'yellow'}]\n",
      "[{'id': 1, 'name': 'red'}, {'id': 2, 'name': 'yellow'}]\n"
     ]
    }
   ],
   "source": [
    "colors = [{'id':1, 'name':'red'},\n",
    "          {'id':2, 'name':'yellow'}\n",
    "];\n",
    "\n",
    "\n",
    "colors_2 = colors.copy()\n",
    "print(colors)\n",
    "print(colors_2)\n"
   ]
  },
  {
   "cell_type": "code",
   "execution_count": 27,
   "metadata": {},
   "outputs": [
    {
     "name": "stdout",
     "output_type": "stream",
     "text": [
      "[2, 4, 6, 8]\n"
     ]
    }
   ],
   "source": [
    "def multiply_numbers(numbers):\n",
    "    return list(map(lambda x: x*2,numbers))\n",
    "\n",
    "numbers = [1, 2, 3, 4]\n",
    "response = multiply_numbers(numbers)\n",
    "print(response)"
   ]
  }
 ],
 "metadata": {
  "kernelspec": {
   "display_name": "Python 3",
   "language": "python",
   "name": "python3"
  },
  "language_info": {
   "codemirror_mode": {
    "name": "ipython",
    "version": 3
   },
   "file_extension": ".py",
   "mimetype": "text/x-python",
   "name": "python",
   "nbconvert_exporter": "python",
   "pygments_lexer": "ipython3",
   "version": "3.9.6"
  },
  "orig_nbformat": 4
 },
 "nbformat": 4,
 "nbformat_minor": 2
}
