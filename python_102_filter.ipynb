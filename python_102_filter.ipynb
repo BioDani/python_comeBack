{
 "cells": [
  {
   "attachments": {},
   "cell_type": "markdown",
   "metadata": {},
   "source": [
    "# FILTER\n",
    "\n",
    "La función `filter()`, devuelve un valor que esta siendo iterado de la cual su resultado será el valor que se esta buscando en el filter"
   ]
  },
  {
   "cell_type": "code",
   "execution_count": 1,
   "metadata": {},
   "outputs": [
    {
     "name": "stdout",
     "output_type": "stream",
     "text": [
      "[18, 20, 22]\n"
     ]
    }
   ],
   "source": [
    "numeros = [18,19,20,1,11,17,22]\n",
    "\n",
    "pares = list(filter(lambda x : x%2 == 0, numeros))\n",
    "print(pares)"
   ]
  },
  {
   "cell_type": "code",
   "execution_count": 2,
   "metadata": {},
   "outputs": [],
   "source": [
    "people = [\n",
    "  {\n",
    "    'name' : 'Pedro',\n",
    "    'country': 'Colombia',\n",
    "    'age' : 18,\n",
    "    'course' : 'developer'\n",
    "  },\n",
    "  {\n",
    "    'name' : 'Juan',\n",
    "    'country': 'Perú',\n",
    "    'age' : 17,\n",
    "    'course' : 'UX'\n",
    "  },\n",
    "  {\n",
    "    'name' : 'Carlos',\n",
    "    'country': 'Chile',\n",
    "    'age' : 31,\n",
    "    'course' : 'Diseño'\n",
    "  },\n",
    "  {\n",
    "    'name' : 'Ana Maria',\n",
    "    'country': 'Colombia',\n",
    "    'age' : 25,\n",
    "    'course' : 'Tester'\n",
    "  }\n",
    "]"
   ]
  },
  {
   "cell_type": "code",
   "execution_count": 5,
   "metadata": {},
   "outputs": [
    {
     "name": "stdout",
     "output_type": "stream",
     "text": [
      "[{'name': 'Pedro', 'country': 'Colombia', 'age': 18, 'course': 'developer'}, {'name': 'Carlos', 'country': 'Chile', 'age': 31, 'course': 'Diseño'}, {'name': 'Ana Maria', 'country': 'Colombia', 'age': 25, 'course': 'Tester'}]\n"
     ]
    }
   ],
   "source": [
    "mayores = list(filter(lambda person: person['age'] >= 18 , people ))\n",
    "print(mayores)"
   ]
  },
  {
   "attachments": {},
   "cell_type": "markdown",
   "metadata": {},
   "source": [
    "Para resolver este desafío, tu reto es usar la función filter de Python y una función lambda para filtrar una lista de palabras, retornando una lista solo con las que cumplan con la condición de tener 4 o más letras.\n",
    "\n",
    "La función filter_by_length recibirá como entrada una lista con palabras. Finalmente, la función retornará la lista filtrada."
   ]
  },
  {
   "cell_type": "code",
   "execution_count": 6,
   "metadata": {},
   "outputs": [
    {
     "name": "stdout",
     "output_type": "stream",
     "text": [
      "['amor', 'piedra']\n"
     ]
    }
   ],
   "source": [
    "def filter_by_length(words):\n",
    "   return list(filter(lambda word: len(word)>=4 , words))\n",
    "\n",
    "words = ['amor', 'sol', 'piedra', 'día']\n",
    "response = filter_by_length(words)\n",
    "print(response)"
   ]
  },
  {
   "cell_type": "code",
   "execution_count": null,
   "metadata": {},
   "outputs": [],
   "source": []
  }
 ],
 "metadata": {
  "kernelspec": {
   "display_name": "Python 3",
   "language": "python",
   "name": "python3"
  },
  "language_info": {
   "codemirror_mode": {
    "name": "ipython",
    "version": 3
   },
   "file_extension": ".py",
   "mimetype": "text/x-python",
   "name": "python",
   "nbconvert_exporter": "python",
   "pygments_lexer": "ipython3",
   "version": "3.9.6"
  },
  "orig_nbformat": 4
 },
 "nbformat": 4,
 "nbformat_minor": 2
}
