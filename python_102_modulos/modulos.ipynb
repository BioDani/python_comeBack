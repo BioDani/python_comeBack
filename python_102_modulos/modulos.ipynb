{
 "cells": [
  {
   "attachments": {},
   "cell_type": "markdown",
   "metadata": {},
   "source": [
    "# Ejemplos de modulos"
   ]
  },
  {
   "cell_type": "code",
   "execution_count": 2,
   "metadata": {},
   "outputs": [
    {
     "name": "stdout",
     "output_type": "stream",
     "text": [
      "/Users/daniel/Documents/python_comeBack/python_102_modulos\n"
     ]
    }
   ],
   "source": [
    "import sys\n",
    "\n",
    "print(sys.path[0])"
   ]
  },
  {
   "cell_type": "code",
   "execution_count": 6,
   "metadata": {},
   "outputs": [
    {
     "name": "stdout",
     "output_type": "stream",
     "text": [
      "['1212', '232', '4343', '1212', '12', '909']\n",
      "[1212.0, 232.0, 4343.0, 1212.0, 12.0, 909.0]\n"
     ]
    }
   ],
   "source": [
    "import re\n",
    "\n",
    "text = 'dada 1212 dajdkka 232 4343 ksjdkla 1212 12 ll 909'\n",
    "\n",
    "numbers = re.findall('[0-9]+', text)\n",
    "print(numbers)\n",
    "\n",
    "numbers = list(map(lambda x: float(x), numbers))\n",
    "print(numbers)\n"
   ]
  },
  {
   "cell_type": "code",
   "execution_count": 6,
   "metadata": {},
   "outputs": [
    {
     "name": "stdout",
     "output_type": "stream",
     "text": [
      "Tue Apr 25 23:00:43 2023\n"
     ]
    }
   ],
   "source": [
    "import time\n",
    "\n",
    "local = time.localtime()\n",
    "result = time.asctime(local)\n",
    "\n",
    "print(result)"
   ]
  },
  {
   "cell_type": "code",
   "execution_count": 12,
   "metadata": {},
   "outputs": [
    {
     "name": "stdout",
     "output_type": "stream",
     "text": [
      "{1: 1, 2: 2, 3: 2, 4: 1, 5: 4}\n"
     ]
    }
   ],
   "source": [
    "import collections\n",
    "\n",
    "numbers = [1,2,2,3,3,4,5,5,5,5]\n",
    "\n",
    "# Número de veces que aparece un elemento en la lista\n",
    "conteo = collections.Counter(numbers)\n",
    "\n",
    "print(dict(conteo))"
   ]
  },
  {
   "cell_type": "code",
   "execution_count": 17,
   "metadata": {},
   "outputs": [
    {
     "name": "stdout",
     "output_type": "stream",
     "text": [
      "55.55555555555556\n"
     ]
    }
   ],
   "source": [
    "seq = 'ACGTACGTGACGACGATG'\n",
    "\n",
    "GC_content = (seq.count('C') + seq.count('G'))/len(seq)\n",
    "print(GC_content*100)"
   ]
  },
  {
   "cell_type": "code",
   "execution_count": 1,
   "metadata": {},
   "outputs": [
    {
     "data": {
      "text/plain": [
       "3"
      ]
     },
     "execution_count": 1,
     "metadata": {},
     "output_type": "execute_result"
    }
   ],
   "source": [
    "sum([1,2])"
   ]
  }
 ],
 "metadata": {
  "kernelspec": {
   "display_name": "Python 3",
   "language": "python",
   "name": "python3"
  },
  "language_info": {
   "codemirror_mode": {
    "name": "ipython",
    "version": 3
   },
   "file_extension": ".py",
   "mimetype": "text/x-python",
   "name": "python",
   "nbconvert_exporter": "python",
   "pygments_lexer": "ipython3",
   "version": "3.9.6"
  },
  "orig_nbformat": 4
 },
 "nbformat": 4,
 "nbformat_minor": 2
}
