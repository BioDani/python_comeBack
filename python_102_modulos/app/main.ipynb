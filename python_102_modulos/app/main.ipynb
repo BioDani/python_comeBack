{
 "cells": [
  {
   "attachments": {},
   "cell_type": "markdown",
   "metadata": {},
   "source": [
    "El modulo `mod` está al interior del archivo `mod.py`"
   ]
  },
  {
   "cell_type": "code",
   "execution_count": 5,
   "metadata": {},
   "outputs": [
    {
     "data": {
      "text/plain": [
       "1.0"
      ]
     },
     "execution_count": 5,
     "metadata": {},
     "output_type": "execute_result"
    }
   ],
   "source": [
    "import mod\n",
    "\n",
    "mod.GC_content(\"CG\")\n"
   ]
  },
  {
   "attachments": {},
   "cell_type": "markdown",
   "metadata": {},
   "source": [
    "# Entry point"
   ]
  },
  {
   "attachments": {},
   "cell_type": "markdown",
   "metadata": {},
   "source": [
    "`__name__` retorna el lugar donde se está ejecutando algo, por tal razón es buena buena practica para definir un archivo principal desde donde se ejecutan otras cosas. \n",
    "\n",
    "Si no se ejecutan en el archivo main, entonces no se hace nada al interior del if.\n",
    "\n",
    "Si este archivo estuviera siendo ejecutado desde otro archivo como un modulo, nada al interior del if correría."
   ]
  },
  {
   "cell_type": "code",
   "execution_count": 6,
   "metadata": {},
   "outputs": [
    {
     "name": "stdout",
     "output_type": "stream",
     "text": [
      "Efectivamente se está en el archivo main\n"
     ]
    }
   ],
   "source": [
    "if __name__ == '__main__':\n",
    "    print('Efectivamente se está en el archivo main')\n",
    "else:\n",
    "    print('No está en el archivo principal main')"
   ]
  },
  {
   "attachments": {},
   "cell_type": "markdown",
   "metadata": {},
   "source": [
    "# Paquete\n",
    "\n",
    "Es una carpeta que contiene varios modulos"
   ]
  },
  {
   "cell_type": "code",
   "execution_count": null,
   "metadata": {},
   "outputs": [],
   "source": []
  }
 ],
 "metadata": {
  "kernelspec": {
   "display_name": "Python 3",
   "language": "python",
   "name": "python3"
  },
  "language_info": {
   "codemirror_mode": {
    "name": "ipython",
    "version": 3
   },
   "file_extension": ".py",
   "mimetype": "text/x-python",
   "name": "python",
   "nbconvert_exporter": "python",
   "pygments_lexer": "ipython3",
   "version": "3.9.6"
  },
  "orig_nbformat": 4
 },
 "nbformat": 4,
 "nbformat_minor": 2
}
