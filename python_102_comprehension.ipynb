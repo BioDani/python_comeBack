{
 "cells": [
  {
   "attachments": {},
   "cell_type": "markdown",
   "metadata": {},
   "source": [
    "# List Comprehension\n",
    "\n",
    "[element for element in iterable]"
   ]
  },
  {
   "cell_type": "code",
   "execution_count": 34,
   "metadata": {},
   "outputs": [
    {
     "name": "stdout",
     "output_type": "stream",
     "text": [
      "[1, 2, 3, 4, 5, 6, 7, 8, 9, 10]\n"
     ]
    }
   ],
   "source": [
    "numbers = []\n",
    "\n",
    "for number in range(1,11):\n",
    "    numbers.append(number)\n",
    "\n",
    "print(numbers)"
   ]
  },
  {
   "attachments": {},
   "cell_type": "markdown",
   "metadata": {},
   "source": [
    "Lo mismo se puede hacer con list comprehension"
   ]
  },
  {
   "cell_type": "code",
   "execution_count": 35,
   "metadata": {},
   "outputs": [
    {
     "name": "stdout",
     "output_type": "stream",
     "text": [
      "[1, 2, 3, 4, 5, 6, 7, 8, 9, 10]\n"
     ]
    }
   ],
   "source": [
    "numbers_v2 = [ number for number in range(1,11)]\n",
    "print(numbers_v2)"
   ]
  },
  {
   "attachments": {},
   "cell_type": "markdown",
   "metadata": {},
   "source": [
    "Si quiero guardar el doble de cada número"
   ]
  },
  {
   "cell_type": "code",
   "execution_count": 36,
   "metadata": {},
   "outputs": [
    {
     "name": "stdout",
     "output_type": "stream",
     "text": [
      "[2, 4, 6, 8, 10, 12, 14, 16, 18, 20]\n"
     ]
    }
   ],
   "source": [
    "numbers_v2 = [ number*2 for number in range(1,11)]\n",
    "print(numbers_v2)"
   ]
  },
  {
   "attachments": {},
   "cell_type": "markdown",
   "metadata": {},
   "source": [
    "### Agregar una condición\n",
    "\n",
    "[element for element in iterable if condition]"
   ]
  },
  {
   "attachments": {},
   "cell_type": "markdown",
   "metadata": {},
   "source": [
    "Agregar si es número par, es decir, si el modulo 2 es igual a cero"
   ]
  },
  {
   "cell_type": "code",
   "execution_count": 4,
   "metadata": {},
   "outputs": [
    {
     "name": "stdout",
     "output_type": "stream",
     "text": [
      "[2, 4, 6, 8, 10]\n"
     ]
    }
   ],
   "source": [
    "pares = [ number for number in range(1,11) if number % 2 == 0]\n",
    "print(pares)\n"
   ]
  },
  {
   "attachments": {},
   "cell_type": "markdown",
   "metadata": {},
   "source": [
    "# Dictionary comprehension\n",
    "\n",
    "{key:value for var in iterable}"
   ]
  },
  {
   "cell_type": "code",
   "execution_count": 7,
   "metadata": {},
   "outputs": [
    {
     "name": "stdout",
     "output_type": "stream",
     "text": [
      "{1: 2, 2: 4, 3: 6, 4: 8}\n"
     ]
    }
   ],
   "source": [
    "dict = { i: i*2 for i in range(1,5)}\n",
    "print(dict)"
   ]
  },
  {
   "cell_type": "code",
   "execution_count": 6,
   "metadata": {},
   "outputs": [
    {
     "name": "stdout",
     "output_type": "stream",
     "text": [
      "{1: 'value 1', 2: 'value 2', 3: 'value 3', 4: 'value 4'}\n"
     ]
    }
   ],
   "source": [
    "dict = { i: f\"value {i}\" for i in range(1,5)}\n",
    "print(dict)"
   ]
  },
  {
   "attachments": {},
   "cell_type": "markdown",
   "metadata": {},
   "source": [
    "Paises y su población \"respectiva\""
   ]
  },
  {
   "cell_type": "code",
   "execution_count": 8,
   "metadata": {},
   "outputs": [],
   "source": [
    "import random"
   ]
  },
  {
   "cell_type": "code",
   "execution_count": 9,
   "metadata": {},
   "outputs": [
    {
     "name": "stdout",
     "output_type": "stream",
     "text": [
      "{'col': 85, 'usa': 5, 'chi': 58}\n"
     ]
    }
   ],
   "source": [
    "countries = ['col','usa','chi']\n",
    "dict_2 = { countrie : random.randint(1,100) for countrie in countries}\n",
    "print(dict_2)"
   ]
  },
  {
   "attachments": {},
   "cell_type": "markdown",
   "metadata": {},
   "source": [
    "Diccionario apartir de dos listas.\n",
    "\n",
    "Zip hace una tupla de dos listas"
   ]
  },
  {
   "cell_type": "code",
   "execution_count": 2,
   "metadata": {},
   "outputs": [
    {
     "name": "stdout",
     "output_type": "stream",
     "text": [
      "[(26, 'Daniel'), (23, 'Maleja'), (13, 'Lucia')]\n"
     ]
    }
   ],
   "source": [
    "ages = [26,23,13]\n",
    "names = ['Daniel','Maleja','Lucia']\n",
    "\n",
    "print(list(zip(ages,names)))"
   ]
  },
  {
   "attachments": {},
   "cell_type": "markdown",
   "metadata": {},
   "source": [
    "Ahora hacer el diccionario"
   ]
  },
  {
   "cell_type": "code",
   "execution_count": 21,
   "metadata": {},
   "outputs": [
    {
     "name": "stdout",
     "output_type": "stream",
     "text": [
      "{'Daniel': 26, 'Maleja': 23, 'Lucia': 13}\n"
     ]
    }
   ],
   "source": [
    "person_info = { name: age for age,name in zip(ages,names)}\n",
    "print(person_info)"
   ]
  },
  {
   "cell_type": "code",
   "execution_count": 25,
   "metadata": {},
   "outputs": [
    {
     "name": "stdout",
     "output_type": "stream",
     "text": [
      "{'Daniel': 26, 'Maleja': 23, 'Lucia': 13}\n"
     ]
    }
   ],
   "source": [
    "older = { name: age for age,name in zip(ages,names) if age >= 18 }\n",
    "print(person_info)"
   ]
  },
  {
   "attachments": {},
   "cell_type": "markdown",
   "metadata": {},
   "source": [
    "List comprehensión con condicionales"
   ]
  },
  {
   "cell_type": "code",
   "execution_count": 7,
   "metadata": {},
   "outputs": [
    {
     "name": "stdout",
     "output_type": "stream",
     "text": [
      "{'col': 3, 'usa': 17, 'chi': 25}\n"
     ]
    }
   ],
   "source": [
    "import random\n",
    "countries = ['col','usa','chi']\n",
    "population = { countrie : random.randint(1,100) for countrie in countries}\n",
    "print(population)"
   ]
  },
  {
   "cell_type": "code",
   "execution_count": 8,
   "metadata": {},
   "outputs": [
    {
     "name": "stdout",
     "output_type": "stream",
     "text": [
      "{'usa': 17, 'chi': 25}\n"
     ]
    }
   ],
   "source": [
    "greater = { k:v for (k,v) in population.items() if v > 10}\n",
    "print(greater)"
   ]
  },
  {
   "attachments": {},
   "cell_type": "markdown",
   "metadata": {},
   "source": [
    "ADN, contar frecuencia de cada base nitrogendas hay en una secuencia"
   ]
  },
  {
   "cell_type": "code",
   "execution_count": 12,
   "metadata": {},
   "outputs": [
    {
     "name": "stdout",
     "output_type": "stream",
     "text": [
      "{'a': 5, 'c': 4, 'g': 3, 't': 2}\n"
     ]
    }
   ],
   "source": [
    "adn = 'acagtcagctagca'\n",
    "frecuencias = { bn: adn.count(bn) for bn in adn}\n",
    "print(frecuencias)"
   ]
  },
  {
   "attachments": {},
   "cell_type": "markdown",
   "metadata": {},
   "source": [
    "# Ejercicio \n",
    "\n",
    "Para resolver este desafío, tu reto es refactorizar el código base utilizando la característica de \"List Comprehension\" de Python.\n",
    "\n",
    "El código base incluye una lista llamada numbers que contiene números pares e impares. El algoritmo actual selecciona los números pares de esta lista y los agrega a una nueva lista llamada even_numbers.\n",
    "\n",
    "Tu reto es crear la misma lista utilizando la característica de \"List Comprehension\" de Python para crear la lista de números pares de manera más concisa y eficiente y el resultado debería quedar en la variable even_numbers_v2. Las dos técnicas deberían de dar el mismo resultado."
   ]
  },
  {
   "cell_type": "code",
   "execution_count": null,
   "metadata": {},
   "outputs": [],
   "source": [
    "numbers = [35, 16, 10, 34, 37, 25]\n",
    "\n",
    "even_numbers = []\n",
    "for number in numbers:\n",
    "  if number % 2 == 0:\n",
    "    even_numbers.append(number)\n",
    "print('v1 =>', even_numbers)\n",
    "\n",
    "# Ahora usando List Comprehension 👇\n",
    "even_numbers_v2 = []\n",
    "\n",
    "print('v2 =>', even_numbers_v2)"
   ]
  },
  {
   "attachments": {},
   "cell_type": "markdown",
   "metadata": {},
   "source": [
    "## Solución"
   ]
  },
  {
   "cell_type": "code",
   "execution_count": 14,
   "metadata": {},
   "outputs": [
    {
     "name": "stdout",
     "output_type": "stream",
     "text": [
      "v1 => [16, 10, 34]\n",
      "v2 => [16, 10, 34]\n"
     ]
    }
   ],
   "source": [
    "numbers = [35, 16, 10, 34, 37, 25]\n",
    "\n",
    "even_numbers = []\n",
    "for number in numbers:\n",
    "  if number % 2 == 0:\n",
    "    even_numbers.append(number)\n",
    "print('v1 =>', even_numbers)\n",
    "\n",
    "# Ahora usando List Comprehension 👇\n",
    "even_numbers_v2 = [number for number in numbers if number % 2 == 0]\n",
    "\n",
    "print('v2 =>', even_numbers_v2)"
   ]
  },
  {
   "cell_type": "code",
   "execution_count": null,
   "metadata": {},
   "outputs": [],
   "source": []
  }
 ],
 "metadata": {
  "kernelspec": {
   "display_name": "Python 3",
   "language": "python",
   "name": "python3"
  },
  "language_info": {
   "codemirror_mode": {
    "name": "ipython",
    "version": 3
   },
   "file_extension": ".py",
   "mimetype": "text/x-python",
   "name": "python",
   "nbconvert_exporter": "python",
   "pygments_lexer": "ipython3",
   "version": "3.9.6"
  },
  "orig_nbformat": 4
 },
 "nbformat": 4,
 "nbformat_minor": 2
}
