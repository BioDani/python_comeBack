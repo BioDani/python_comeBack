{
 "cells": [
  {
   "attachments": {},
   "cell_type": "markdown",
   "metadata": {},
   "source": [
    "# Funciones\n"
   ]
  },
  {
   "attachments": {},
   "cell_type": "markdown",
   "metadata": {},
   "source": [
    "Para resolver este desafío, tu reto completar la función message_creator para que retorne un mensaje distinto dependiendo del artículo de tecnología que reciba como entrada.\n",
    "\n",
    "La función message_creator recibirá como entrada un string que indica el artículo de tecnología. Luego, deberás evaluar el valor de este string y retornar un mensaje distinto dependiendo del valor que reciba.\n",
    "\n",
    "La implementacion debe responder al siguiente comportamiento:\n",
    "\n",
    "Si recibes una computadora, debes retornar el mensaje Con mi computadora puedo programar usando Python.\n",
    "Si recibes un celular, debes retornar el mensaje \"En mi celular puedo aprender usando la app de Platzi.\n",
    "Si recibes un cable, debes retornar el mensaje ¡Hay un cable en mi bota!.\n",
    "Y si no recibes ninguno de estos valores, debes retornar el mensaje Artículo no encontrado.\n"
   ]
  },
  {
   "cell_type": "code",
   "execution_count": null,
   "metadata": {},
   "outputs": [],
   "source": [
    "def message_creator(text):\n",
    "   # Escribe tu solución 👇\n",
    "   return ''\n",
    "\n",
    "text = 'computadora'\n",
    "response = message_creator(text)\n",
    "print(response)"
   ]
  },
  {
   "cell_type": "code",
   "execution_count": 6,
   "metadata": {},
   "outputs": [
    {
     "name": "stdout",
     "output_type": "stream",
     "text": [
      "Con mi computadora puedo programar usando Python\n"
     ]
    }
   ],
   "source": [
    "def message_creator(text):\n",
    "    user_option = ['computadora', 'celular', 'cable']\n",
    "    if text not in user_option :\n",
    "        message = \"Artículo no encontrado\"\n",
    "    elif text is user_option[0]:\n",
    "        message = \"Con mi computadora puedo programar usando Python\"\n",
    "    elif text == user_option[1]:\n",
    "        message = \"En mi celular puedo aprender usando la app de Platzi\"\n",
    "    else:\n",
    "        message = \"¡Hay un cable en mi bota!\"\n",
    "    return message\n",
    "\n",
    "text = 'computadora'\n",
    "response = message_creator(text)\n",
    "print(response)"
   ]
  },
  {
   "attachments": {},
   "cell_type": "markdown",
   "metadata": {},
   "source": [
    "# Funciones anonimas: Lambdas"
   ]
  },
  {
   "attachments": {},
   "cell_type": "markdown",
   "metadata": {},
   "source": [
    "`def func(args):\n",
    "    return ret_val`\n",
    "\n",
    "Su equivalente en función anónima es\n",
    "\n",
    "`func = lambda args: retval`\n"
   ]
  },
  {
   "cell_type": "code",
   "execution_count": 16,
   "metadata": {},
   "outputs": [],
   "source": [
    "def increment(x):\n",
    "    return x+10\n",
    "\n",
    "increment_v2 = lambda x: x+10"
   ]
  },
  {
   "attachments": {},
   "cell_type": "markdown",
   "metadata": {},
   "source": [
    "Son formas equivalentes de plantear una función"
   ]
  },
  {
   "cell_type": "code",
   "execution_count": 17,
   "metadata": {},
   "outputs": [
    {
     "name": "stdout",
     "output_type": "stream",
     "text": [
      "20\n",
      "20\n"
     ]
    }
   ],
   "source": [
    "print(increment(10))\n",
    "print(increment_v2(10))"
   ]
  },
  {
   "cell_type": "code",
   "execution_count": 13,
   "metadata": {},
   "outputs": [],
   "source": [
    "full_name = lambda name, lastname: f'Nombre completo: {name.title()} {lastname.title()}'"
   ]
  },
  {
   "cell_type": "code",
   "execution_count": 14,
   "metadata": {},
   "outputs": [
    {
     "name": "stdout",
     "output_type": "stream",
     "text": [
      "Nombre completo: Daniel Tejada\n"
     ]
    }
   ],
   "source": [
    "print(full_name('daniel','tejada'))"
   ]
  },
  {
   "attachments": {},
   "cell_type": "markdown",
   "metadata": {},
   "source": []
  },
  {
   "cell_type": "code",
   "execution_count": null,
   "metadata": {},
   "outputs": [],
   "source": []
  }
 ],
 "metadata": {
  "kernelspec": {
   "display_name": "Python 3",
   "language": "python",
   "name": "python3"
  },
  "language_info": {
   "codemirror_mode": {
    "name": "ipython",
    "version": 3
   },
   "file_extension": ".py",
   "mimetype": "text/x-python",
   "name": "python",
   "nbconvert_exporter": "python",
   "pygments_lexer": "ipython3",
   "version": "3.9.6"
  },
  "orig_nbformat": 4
 },
 "nbformat": 4,
 "nbformat_minor": 2
}
