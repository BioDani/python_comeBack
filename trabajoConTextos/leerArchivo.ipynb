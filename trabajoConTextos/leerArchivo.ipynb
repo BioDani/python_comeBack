{
 "cells": [
  {
   "attachments": {},
   "cell_type": "markdown",
   "metadata": {},
   "source": [
    "# Leer archivos"
   ]
  },
  {
   "attachments": {},
   "cell_type": "markdown",
   "metadata": {},
   "source": [
    "1. Cuando el archivo no es demasiado grande puedo leerlo todo."
   ]
  },
  {
   "cell_type": "code",
   "execution_count": 12,
   "metadata": {},
   "outputs": [
    {
     "name": "stdout",
     "output_type": "stream",
     "text": [
      "linea 1\n",
      "linea 2\n",
      "linea 3\n",
      "linea 4\n",
      "linea 5\n",
      "linea 6\n"
     ]
    }
   ],
   "source": [
    "archivo = open(file=\"./archivo.txt\")\n",
    "print(archivo.read())\n",
    "\n",
    "archivo.close()"
   ]
  },
  {
   "attachments": {},
   "cell_type": "markdown",
   "metadata": {},
   "source": [
    "2. Cuando el archivo es muy grande la buena práctica es leer linea por linea usando `readline()`"
   ]
  },
  {
   "cell_type": "code",
   "execution_count": 16,
   "metadata": {},
   "outputs": [
    {
     "name": "stdout",
     "output_type": "stream",
     "text": [
      "linea 1\n",
      "\n"
     ]
    }
   ],
   "source": [
    "archivo = open(file=\"./archivo.txt\")\n",
    "print(archivo.readline())\n",
    "\n",
    "archivo.close()"
   ]
  },
  {
   "attachments": {},
   "cell_type": "markdown",
   "metadata": {},
   "source": [
    "Como no sabemos la cantidad de lineas, se puede usar un for. "
   ]
  },
  {
   "cell_type": "code",
   "execution_count": 14,
   "metadata": {},
   "outputs": [
    {
     "name": "stdout",
     "output_type": "stream",
     "text": [
      "linea 2\n",
      "\n",
      "linea 4\n",
      "\n",
      "linea 6\n"
     ]
    }
   ],
   "source": [
    "archivo = open(file=\"./archivo.txt\")\n",
    "for line in archivo:\n",
    "    print(line)\n",
    "archivo.close()"
   ]
  },
  {
   "attachments": {},
   "cell_type": "markdown",
   "metadata": {},
   "source": [
    "3. Existe una instrucción que abre y que una vez terminadas las intrucciones lo cierra, por lo que no es necesario el `close()`"
   ]
  },
  {
   "cell_type": "code",
   "execution_count": 31,
   "metadata": {},
   "outputs": [
    {
     "name": "stdout",
     "output_type": "stream",
     "text": [
      "linea 1\n",
      "\n",
      "linea 2\n",
      "\n",
      "linea 3\n",
      "\n",
      "linea 4\n",
      "\n",
      "linea 5\n"
     ]
    }
   ],
   "source": [
    "with open(file=\"./archivo.txt\") as archivo:\n",
    "    for line in archivo:\n",
    "        print(line)"
   ]
  },
  {
   "attachments": {},
   "cell_type": "markdown",
   "metadata": {},
   "source": [
    "# Escribir en un archivo"
   ]
  },
  {
   "attachments": {},
   "cell_type": "markdown",
   "metadata": {},
   "source": [
    "\n",
    "- r -> abre un archivo solo para lectura. El puntero al archivo esta localizado al comienzo del archivo. Este es el modo predeterminado de la función.\n",
    "- rb -> abre un archivo solo para lectura en formato binario. El puntero al archivo esta localizado al comienzo del archivo. Este es el modo predeterminado de la función.\n",
    "- r+ -> abre un archivo para escritura y lectura. El puntero del archivo está localizado al comienzo del archivo.\n",
    "- w -> abre un archivo solo para escritura. Sobreescribe el archivo si este ya existe. Si el archivo no existe, crea un nuevo archivo para escritura.\n",
    "- wb -> abre un archivo solo para escritura en formato binario. Sobreescribe el archivo si este ya existe. Si el archivo no existe, crea un nuevo archivo para escritura.\n",
    "- w+ -> abre un archivo para escritura y lectura. Sobreescribe el archivo si este ya existe. Si el archivo no existe, crea un nuevo archivo para escritura.\n",
    "- a -> abre un archivo para anexo. El puntero del archivo esta al final del archivo si este existe. Es decir, el archivo está en modo anexo. Si el archivo no existe, crea un nuevo archivo para escritura."
   ]
  },
  {
   "cell_type": "code",
   "execution_count": 34,
   "metadata": {},
   "outputs": [],
   "source": [
    "with open(\"./archivo.txt\",\"a\") as archivo:\n",
    "    archivo.write(\"\\nLinea nueva\")"
   ]
  },
  {
   "cell_type": "code",
   "execution_count": 35,
   "metadata": {},
   "outputs": [
    {
     "name": "stdout",
     "output_type": "stream",
     "text": [
      "linea 1\n",
      "\n",
      "linea 2\n",
      "\n",
      "linea 3\n",
      "\n",
      "linea 4\n",
      "\n",
      "linea 5\n",
      "\n",
      "Linea nueva\n"
     ]
    }
   ],
   "source": [
    "with open(\"./archivo.txt\",\"r+\") as archivo:\n",
    "    for line in archivo:\n",
    "        print(line)"
   ]
  },
  {
   "attachments": {},
   "cell_type": "markdown",
   "metadata": {},
   "source": [
    "# Leer un CSV"
   ]
  },
  {
   "cell_type": "code",
   "execution_count": 40,
   "metadata": {},
   "outputs": [],
   "source": [
    "import csv\n",
    "def read_csv(path):\n",
    "    with open(path ,'r') as csvfile:\n",
    "        reader = csv.reader(csvfile, delimiter=',')\n",
    "        header = next(reader)\n",
    "\n",
    "        data = []\n",
    "        for row in reader:\n",
    "            iterable = zip(header,row)\n",
    "            data.append(dict(iterable)) \n",
    "    return(data)"
   ]
  },
  {
   "cell_type": "code",
   "execution_count": 41,
   "metadata": {},
   "outputs": [],
   "source": [
    "\n",
    "data = read_csv('./world_population.csv')"
   ]
  },
  {
   "cell_type": "code",
   "execution_count": 42,
   "metadata": {},
   "outputs": [
    {
     "data": {
      "text/plain": [
       "{'Rank': '36',\n",
       " 'CCA3': 'AFG',\n",
       " 'Country/Territory': 'Afghanistan',\n",
       " 'Capital': 'Kabul',\n",
       " 'Continent': 'Asia',\n",
       " '2022 Population': '41128771',\n",
       " '2020 Population': '38972230',\n",
       " '2015 Population': '33753499',\n",
       " '2010 Population': '28189672',\n",
       " '2000 Population': '19542982',\n",
       " '1990 Population': '10694796',\n",
       " '1980 Population': '12486631',\n",
       " '1970 Population': '10752971',\n",
       " 'Area (km²)': '652230',\n",
       " 'Density (per km²)': '63.0587',\n",
       " 'Growth Rate': '1.0257',\n",
       " 'World Population Percentage': '0.52'}"
      ]
     },
     "execution_count": 42,
     "metadata": {},
     "output_type": "execute_result"
    }
   ],
   "source": [
    "data[0]"
   ]
  },
  {
   "attachments": {},
   "cell_type": "markdown",
   "metadata": {},
   "source": [
    "# Ejercicio"
   ]
  },
  {
   "cell_type": "code",
   "execution_count": 52,
   "metadata": {},
   "outputs": [
    {
     "name": "stdout",
     "output_type": "stream",
     "text": [
      "1499\n"
     ]
    }
   ],
   "source": [
    "import csv\n",
    "\n",
    "def read_csv(path):\n",
    "   with open(path ,'r') as csvfile:\n",
    "      reader = csv.reader(csvfile, delimiter=',')\n",
    "      header = [\"area\",\"gasto\"]\n",
    "      \n",
    "      data = []\n",
    "      for row in reader:\n",
    "         iterable = zip(header,row)\n",
    "         data.append(dict(iterable))\n",
    "      total = 0\n",
    "      for i in data: \n",
    "         total += int(i['gasto'])\n",
    "   return total\n",
    "\n",
    "response = read_csv('./data.csv')\n",
    "print(response)"
   ]
  },
  {
   "cell_type": "code",
   "execution_count": null,
   "metadata": {},
   "outputs": [],
   "source": []
  }
 ],
 "metadata": {
  "kernelspec": {
   "display_name": "Python 3",
   "language": "python",
   "name": "python3"
  },
  "language_info": {
   "codemirror_mode": {
    "name": "ipython",
    "version": 3
   },
   "file_extension": ".py",
   "mimetype": "text/x-python",
   "name": "python",
   "nbconvert_exporter": "python",
   "pygments_lexer": "ipython3",
   "version": "3.9.6"
  },
  "orig_nbformat": 4
 },
 "nbformat": 4,
 "nbformat_minor": 2
}
